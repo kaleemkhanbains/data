{
  "nbformat": 4,
  "nbformat_minor": 0,
  "metadata": {
    "colab": {
      "name": "Real estate2.ipynb",
      "provenance": [],
      "collapsed_sections": []
    },
    "kernelspec": {
      "name": "python3",
      "display_name": "Python 3"
    },
    "language_info": {
      "name": "python"
    }
  },
  "cells": [
    {
      "cell_type": "markdown",
      "source": [
        "##Imports"
      ],
      "metadata": {
        "id": "kftJXigng734"
      }
    },
    {
      "cell_type": "code",
      "execution_count": 586,
      "metadata": {
        "id": "Bk7tjC773jiB"
      },
      "outputs": [],
      "source": [
        "import pandas as pd\n",
        "import numpy as np\n",
        "import matplotlib.pyplot as plt\n",
        "import seaborn as sn\n",
        "from geopy import Nominatim\n",
        "from scipy.stats import multivariate_normal as mvn "
      ]
    },
    {
      "cell_type": "code",
      "source": [
        "data=pd.read_csv('/content/raw_house_data.csv')"
      ],
      "metadata": {
        "id": "PxLAhGLw5aK7"
      },
      "execution_count": 587,
      "outputs": []
    },
    {
      "cell_type": "code",
      "source": [
        "geolocator=Nominatim(user_agent=\"TfClan\")"
      ],
      "metadata": {
        "id": "MJsidfFbk0qT"
      },
      "execution_count": 588,
      "outputs": []
    },
    {
      "cell_type": "code",
      "source": [
        "location=geolocator.geocode(\"721 N Erin Ave 85711\")"
      ],
      "metadata": {
        "id": "o4NZ71Lmk0tX"
      },
      "execution_count": 589,
      "outputs": []
    },
    {
      "cell_type": "code",
      "source": [
        "testlat=location.raw[\"lat\"]"
      ],
      "metadata": {
        "id": "p_DQyb_Yk0xP"
      },
      "execution_count": 590,
      "outputs": []
    },
    {
      "cell_type": "code",
      "source": [
        "testlong=location.raw[\"lon\"]"
      ],
      "metadata": {
        "id": "Xji9wiEuk00O"
      },
      "execution_count": 591,
      "outputs": []
    },
    {
      "cell_type": "code",
      "source": [
        "test=data.iloc[0:1,3:5]"
      ],
      "metadata": {
        "id": "NdXO31u2lkwA"
      },
      "execution_count": 592,
      "outputs": []
    },
    {
      "cell_type": "code",
      "source": [
        "test.shape"
      ],
      "metadata": {
        "colab": {
          "base_uri": "https://localhost:8080/"
        },
        "id": "hSPDLSGtl7To",
        "outputId": "ed0b7a5c-a5de-4f8e-a6f2-2086aaeba918"
      },
      "execution_count": 593,
      "outputs": [
        {
          "output_type": "execute_result",
          "data": {
            "text/plain": [
              "(1, 2)"
            ]
          },
          "metadata": {},
          "execution_count": 593
        }
      ]
    },
    {
      "cell_type": "code",
      "source": [
        "test['latitude']=testlat\n",
        "test['longitude']=testlong"
      ],
      "metadata": {
        "id": "HhGpj90pmJtk"
      },
      "execution_count": 594,
      "outputs": []
    },
    {
      "cell_type": "markdown",
      "source": [
        "##Data Cleaning"
      ],
      "metadata": {
        "id": "fb4a9_TkhCrG"
      }
    },
    {
      "cell_type": "code",
      "source": [
        "data=data.iloc[:,1:]"
      ],
      "metadata": {
        "id": "gzzxcKDt58VU"
      },
      "execution_count": 595,
      "outputs": []
    },
    {
      "cell_type": "markdown",
      "source": [
        "Nan values in lot acres, spaces in fireplaces, got rid of commas to change hoa object to string to float, get rid of year=0, acres=0, sqft=0, sqft=none"
      ],
      "metadata": {
        "id": "ouIO_FVSX8BU"
      }
    },
    {
      "cell_type": "code",
      "source": [
        "data=data[data[\"lot_acres\"]!=0.00]"
      ],
      "metadata": {
        "id": "-ISDvsWzY55A"
      },
      "execution_count": 596,
      "outputs": []
    },
    {
      "cell_type": "code",
      "source": [
        "data=data[data[\"sqrt_ft\"]!=0.00]"
      ],
      "metadata": {
        "id": "iElhecGQKT41"
      },
      "execution_count": 597,
      "outputs": []
    },
    {
      "cell_type": "code",
      "source": [
        "data=data[data[\"sqrt_ft\"]!=\"None\"]"
      ],
      "metadata": {
        "id": "Pdst5ZzkLRiN"
      },
      "execution_count": 598,
      "outputs": []
    },
    {
      "cell_type": "code",
      "source": [
        "data=data.replace(\"None\", 0)"
      ],
      "metadata": {
        "id": "qbK6fsBvgI_g"
      },
      "execution_count": 599,
      "outputs": []
    },
    {
      "cell_type": "code",
      "source": [
        "data[\"fireplaces\"]=data[\"fireplaces\"].replace(' ', 0)"
      ],
      "metadata": {
        "id": "-pN74hXTZP0T"
      },
      "execution_count": 600,
      "outputs": []
    },
    {
      "cell_type": "code",
      "source": [
        "data[\"HOA\"]=data[\"HOA\"].replace(',','')"
      ],
      "metadata": {
        "id": "aEXpYxD6efoa"
      },
      "execution_count": 601,
      "outputs": []
    },
    {
      "cell_type": "code",
      "source": [
        "data.loc[data['lot_acres']==0]"
      ],
      "metadata": {
        "colab": {
          "base_uri": "https://localhost:8080/",
          "height": 0
        },
        "id": "brtchjU0b8ee",
        "outputId": "79df305a-a94f-4024-9f61-99b9cd952259"
      },
      "execution_count": 602,
      "outputs": [
        {
          "output_type": "execute_result",
          "data": {
            "text/plain": [
              "Empty DataFrame\n",
              "Columns: [sold_price, zipcode, longitude, latitude, lot_acres, taxes, year_built, bedrooms, bathrooms, sqrt_ft, garage, kitchen_features, fireplaces, floor_covering, HOA]\n",
              "Index: []"
            ],
            "text/html": [
              "\n",
              "  <div id=\"df-9b55ba30-1530-4d1d-b7ef-2648f9412132\">\n",
              "    <div class=\"colab-df-container\">\n",
              "      <div>\n",
              "<style scoped>\n",
              "    .dataframe tbody tr th:only-of-type {\n",
              "        vertical-align: middle;\n",
              "    }\n",
              "\n",
              "    .dataframe tbody tr th {\n",
              "        vertical-align: top;\n",
              "    }\n",
              "\n",
              "    .dataframe thead th {\n",
              "        text-align: right;\n",
              "    }\n",
              "</style>\n",
              "<table border=\"1\" class=\"dataframe\">\n",
              "  <thead>\n",
              "    <tr style=\"text-align: right;\">\n",
              "      <th></th>\n",
              "      <th>sold_price</th>\n",
              "      <th>zipcode</th>\n",
              "      <th>longitude</th>\n",
              "      <th>latitude</th>\n",
              "      <th>lot_acres</th>\n",
              "      <th>taxes</th>\n",
              "      <th>year_built</th>\n",
              "      <th>bedrooms</th>\n",
              "      <th>bathrooms</th>\n",
              "      <th>sqrt_ft</th>\n",
              "      <th>garage</th>\n",
              "      <th>kitchen_features</th>\n",
              "      <th>fireplaces</th>\n",
              "      <th>floor_covering</th>\n",
              "      <th>HOA</th>\n",
              "    </tr>\n",
              "  </thead>\n",
              "  <tbody>\n",
              "  </tbody>\n",
              "</table>\n",
              "</div>\n",
              "      <button class=\"colab-df-convert\" onclick=\"convertToInteractive('df-9b55ba30-1530-4d1d-b7ef-2648f9412132')\"\n",
              "              title=\"Convert this dataframe to an interactive table.\"\n",
              "              style=\"display:none;\">\n",
              "        \n",
              "  <svg xmlns=\"http://www.w3.org/2000/svg\" height=\"24px\"viewBox=\"0 0 24 24\"\n",
              "       width=\"24px\">\n",
              "    <path d=\"M0 0h24v24H0V0z\" fill=\"none\"/>\n",
              "    <path d=\"M18.56 5.44l.94 2.06.94-2.06 2.06-.94-2.06-.94-.94-2.06-.94 2.06-2.06.94zm-11 1L8.5 8.5l.94-2.06 2.06-.94-2.06-.94L8.5 2.5l-.94 2.06-2.06.94zm10 10l.94 2.06.94-2.06 2.06-.94-2.06-.94-.94-2.06-.94 2.06-2.06.94z\"/><path d=\"M17.41 7.96l-1.37-1.37c-.4-.4-.92-.59-1.43-.59-.52 0-1.04.2-1.43.59L10.3 9.45l-7.72 7.72c-.78.78-.78 2.05 0 2.83L4 21.41c.39.39.9.59 1.41.59.51 0 1.02-.2 1.41-.59l7.78-7.78 2.81-2.81c.8-.78.8-2.07 0-2.86zM5.41 20L4 18.59l7.72-7.72 1.47 1.35L5.41 20z\"/>\n",
              "  </svg>\n",
              "      </button>\n",
              "      \n",
              "  <style>\n",
              "    .colab-df-container {\n",
              "      display:flex;\n",
              "      flex-wrap:wrap;\n",
              "      gap: 12px;\n",
              "    }\n",
              "\n",
              "    .colab-df-convert {\n",
              "      background-color: #E8F0FE;\n",
              "      border: none;\n",
              "      border-radius: 50%;\n",
              "      cursor: pointer;\n",
              "      display: none;\n",
              "      fill: #1967D2;\n",
              "      height: 32px;\n",
              "      padding: 0 0 0 0;\n",
              "      width: 32px;\n",
              "    }\n",
              "\n",
              "    .colab-df-convert:hover {\n",
              "      background-color: #E2EBFA;\n",
              "      box-shadow: 0px 1px 2px rgba(60, 64, 67, 0.3), 0px 1px 3px 1px rgba(60, 64, 67, 0.15);\n",
              "      fill: #174EA6;\n",
              "    }\n",
              "\n",
              "    [theme=dark] .colab-df-convert {\n",
              "      background-color: #3B4455;\n",
              "      fill: #D2E3FC;\n",
              "    }\n",
              "\n",
              "    [theme=dark] .colab-df-convert:hover {\n",
              "      background-color: #434B5C;\n",
              "      box-shadow: 0px 1px 3px 1px rgba(0, 0, 0, 0.15);\n",
              "      filter: drop-shadow(0px 1px 2px rgba(0, 0, 0, 0.3));\n",
              "      fill: #FFFFFF;\n",
              "    }\n",
              "  </style>\n",
              "\n",
              "      <script>\n",
              "        const buttonEl =\n",
              "          document.querySelector('#df-9b55ba30-1530-4d1d-b7ef-2648f9412132 button.colab-df-convert');\n",
              "        buttonEl.style.display =\n",
              "          google.colab.kernel.accessAllowed ? 'block' : 'none';\n",
              "\n",
              "        async function convertToInteractive(key) {\n",
              "          const element = document.querySelector('#df-9b55ba30-1530-4d1d-b7ef-2648f9412132');\n",
              "          const dataTable =\n",
              "            await google.colab.kernel.invokeFunction('convertToInteractive',\n",
              "                                                     [key], {});\n",
              "          if (!dataTable) return;\n",
              "\n",
              "          const docLinkHtml = 'Like what you see? Visit the ' +\n",
              "            '<a target=\"_blank\" href=https://colab.research.google.com/notebooks/data_table.ipynb>data table notebook</a>'\n",
              "            + ' to learn more about interactive tables.';\n",
              "          element.innerHTML = '';\n",
              "          dataTable['output_type'] = 'display_data';\n",
              "          await google.colab.output.renderOutput(dataTable, element);\n",
              "          const docLink = document.createElement('div');\n",
              "          docLink.innerHTML = docLinkHtml;\n",
              "          element.appendChild(docLink);\n",
              "        }\n",
              "      </script>\n",
              "    </div>\n",
              "  </div>\n",
              "  "
            ]
          },
          "metadata": {},
          "execution_count": 602
        }
      ]
    },
    {
      "cell_type": "code",
      "source": [
        "data[\"bathrooms\"]=data[\"bathrooms\"].astype(float)\n",
        "data[\"sqrt_ft\"]=data[\"sqrt_ft\"].astype(float)\n",
        "data[\"garage\"]=data[\"garage\"].astype(float)\n",
        "data[\"fireplaces\"]=data[\"fireplaces\"].astype(str).astype(int)\n",
        "data[\"HOA\"]=data[\"HOA\"].astype(str)\n",
        "data[\"HOA\"]=data[\"HOA\"].str.replace(\",\",\"\")\n",
        "data[\"HOA\"]=data[\"HOA\"].astype(float)"
      ],
      "metadata": {
        "id": "M2SVrL24RGRf"
      },
      "execution_count": 603,
      "outputs": []
    },
    {
      "cell_type": "code",
      "source": [
        "#data.dtypes"
      ],
      "metadata": {
        "id": "Q1WOsYcMOCFV"
      },
      "execution_count": 604,
      "outputs": []
    },
    {
      "cell_type": "markdown",
      "source": [
        "Change objects to int, get rid of 0 sqrt ft values"
      ],
      "metadata": {
        "id": "NOOXUJH5PaOt"
      }
    },
    {
      "cell_type": "code",
      "source": [
        "data[\"price per acre\"] = data[\"sold_price\"]/data[\"lot_acres\"]\n",
        "data[\"price per bedroom\"] = data[\"sold_price\"]/data[\"bedrooms\"]\n",
        "data[\"price per latitude\"] = data[\"sold_price\"]/data[\"latitude\"]\n",
        "data[\"price per ft\"] = data[\"sold_price\"]/data[\"sqrt_ft\"]"
      ],
      "metadata": {
        "id": "bkVWQoB5JPtP"
      },
      "execution_count": 605,
      "outputs": []
    },
    {
      "cell_type": "code",
      "source": [
        "data=data.reset_index()"
      ],
      "metadata": {
        "id": "g70Y1nFAJw--"
      },
      "execution_count": 606,
      "outputs": []
    },
    {
      "cell_type": "code",
      "source": [
        "data=data.iloc[:,1:]"
      ],
      "metadata": {
        "id": "mtEIHwRAVKeA"
      },
      "execution_count": 607,
      "outputs": []
    },
    {
      "cell_type": "markdown",
      "source": [
        "##Data Analysis"
      ],
      "metadata": {
        "id": "-cCur5HQhKdq"
      }
    },
    {
      "cell_type": "markdown",
      "source": [
        "The area(lat,long,zip) affects the acres and that affects the sold price."
      ],
      "metadata": {
        "id": "EVM7ZqEfJQtI"
      }
    },
    {
      "cell_type": "markdown",
      "source": [
        "more lat=high sold price , more long=more acres, less latitude=more acres, newer houses cheaper"
      ],
      "metadata": {
        "id": "zFSV0LktVfCB"
      }
    },
    {
      "cell_type": "markdown",
      "source": [
        "LOOK AT PRICE PER SQUARE FOOT(ACRE), you want to establish categories"
      ],
      "metadata": {
        "id": "YfDJXDQQLT64"
      }
    },
    {
      "cell_type": "code",
      "source": [
        "data"
      ],
      "metadata": {
        "colab": {
          "base_uri": "https://localhost:8080/",
          "height": 0
        },
        "id": "CS8ALnR-2Eyt",
        "outputId": "acb2274a-b92e-4d23-be9e-8c76e3e9f038"
      },
      "execution_count": 608,
      "outputs": [
        {
          "output_type": "execute_result",
          "data": {
            "text/plain": [
              "      sold_price  zipcode   longitude   latitude  lot_acres     taxes  \\\n",
              "0      5300000.0    85637 -110.378200  31.356362    2154.00   5272.00   \n",
              "1      4200000.0    85646 -111.045371  31.594213    1707.00  10422.36   \n",
              "2      4500000.0    85646 -111.035925  31.645878     636.67   8418.58   \n",
              "3      3411450.0    85750 -110.813768  32.285162       3.21  15393.00   \n",
              "4      3250000.0    85718 -110.910593  32.339090       1.67  27802.84   \n",
              "...          ...      ...         ...        ...        ...       ...   \n",
              "4904    495000.0    85641 -110.661829  31.907917       4.98   2017.00   \n",
              "4905    550000.0    85750 -110.858556  32.316373       1.42   4822.01   \n",
              "4906    475000.0    85192 -110.755428  32.964708      12.06   1000.00   \n",
              "4907    550000.0    85745 -111.055528  32.296871       1.01   5822.93   \n",
              "4908    450000.0    85621 -110.913054  31.385259       4.16   2814.48   \n",
              "\n",
              "      year_built  bedrooms  bathrooms  sqrt_ft  garage  \\\n",
              "0           1941        13       10.0  10500.0     0.0   \n",
              "1           1997         2        2.0   7300.0     0.0   \n",
              "2           1930         7        5.0   9019.0     4.0   \n",
              "3           1995         4        6.0   6396.0     3.0   \n",
              "4           1999         3        4.0   6842.0     3.0   \n",
              "...          ...       ...        ...      ...     ...   \n",
              "4904        2005         5        3.0   3601.0     3.0   \n",
              "4905        1990         4        3.0   2318.0     3.0   \n",
              "4906        1969         3        2.0   1772.0     0.0   \n",
              "4907        2009         4        4.0   3724.0     3.0   \n",
              "4908        1988         4        4.0   4317.0     0.0   \n",
              "\n",
              "                                       kitchen_features  fireplaces  \\\n",
              "0               Dishwasher, Freezer, Refrigerator, Oven           6   \n",
              "1                          Dishwasher, Garbage Disposal           5   \n",
              "2     Dishwasher, Double Sink, Pantry: Butler, Refri...           4   \n",
              "3     Dishwasher, Garbage Disposal, Refrigerator, Mi...           5   \n",
              "4     Dishwasher, Garbage Disposal, Refrigerator, Mi...           5   \n",
              "...                                                 ...         ...   \n",
              "4904  Dishwasher, Double Sink, Garbage Disposal, Gas...           1   \n",
              "4905  Dishwasher, Double Sink, Electric Range, Garba...           1   \n",
              "4906  Dishwasher, Electric Range, Island, Refrigerat...           0   \n",
              "4907  Dishwasher, Double Sink, Garbage Disposal, Gas...           1   \n",
              "4908  Compactor, Dishwasher, Double Sink, Island, Ap...           3   \n",
              "\n",
              "                    floor_covering    HOA  price per acre  price per bedroom  \\\n",
              "0               Mexican Tile, Wood    0.0    2.460539e+03       4.076923e+05   \n",
              "1             Natural Stone, Other    0.0    2.460457e+03       2.100000e+06   \n",
              "2     Ceramic Tile, Laminate, Wood    0.0    7.068026e+03       6.428571e+05   \n",
              "3                 Carpet, Concrete   55.0    1.062757e+06       8.528625e+05   \n",
              "4       Natural Stone, Wood, Other  422.0    1.946108e+06       1.083333e+06   \n",
              "...                            ...    ...             ...                ...   \n",
              "4904          Carpet, Ceramic Tile    0.0    9.939759e+04       9.900000e+04   \n",
              "4905          Carpet, Ceramic Tile   43.0    3.873239e+05       1.375000e+05   \n",
              "4906                  Ceramic Tile    0.0    3.938640e+04       1.583333e+05   \n",
              "4907          Carpet, Ceramic Tile    0.0    5.445545e+05       1.375000e+05   \n",
              "4908          Carpet, Mexican Tile    0.0    1.081731e+05       1.125000e+05   \n",
              "\n",
              "      price per latitude  price per ft  \n",
              "0          169024.710201    504.761905  \n",
              "1          132935.737314    575.342466  \n",
              "2          142198.614303    498.946668  \n",
              "3          105666.188077    533.372420  \n",
              "4          100497.571206    475.007308  \n",
              "...                  ...           ...  \n",
              "4904        15513.391238    137.461816  \n",
              "4905        17019.236658    237.273512  \n",
              "4906        14409.349538    268.058691  \n",
              "4907        17029.513478    147.690655  \n",
              "4908        14337.941261    104.239055  \n",
              "\n",
              "[4909 rows x 19 columns]"
            ],
            "text/html": [
              "\n",
              "  <div id=\"df-df8e065f-f50d-4500-986a-88cb1841f24b\">\n",
              "    <div class=\"colab-df-container\">\n",
              "      <div>\n",
              "<style scoped>\n",
              "    .dataframe tbody tr th:only-of-type {\n",
              "        vertical-align: middle;\n",
              "    }\n",
              "\n",
              "    .dataframe tbody tr th {\n",
              "        vertical-align: top;\n",
              "    }\n",
              "\n",
              "    .dataframe thead th {\n",
              "        text-align: right;\n",
              "    }\n",
              "</style>\n",
              "<table border=\"1\" class=\"dataframe\">\n",
              "  <thead>\n",
              "    <tr style=\"text-align: right;\">\n",
              "      <th></th>\n",
              "      <th>sold_price</th>\n",
              "      <th>zipcode</th>\n",
              "      <th>longitude</th>\n",
              "      <th>latitude</th>\n",
              "      <th>lot_acres</th>\n",
              "      <th>taxes</th>\n",
              "      <th>year_built</th>\n",
              "      <th>bedrooms</th>\n",
              "      <th>bathrooms</th>\n",
              "      <th>sqrt_ft</th>\n",
              "      <th>garage</th>\n",
              "      <th>kitchen_features</th>\n",
              "      <th>fireplaces</th>\n",
              "      <th>floor_covering</th>\n",
              "      <th>HOA</th>\n",
              "      <th>price per acre</th>\n",
              "      <th>price per bedroom</th>\n",
              "      <th>price per latitude</th>\n",
              "      <th>price per ft</th>\n",
              "    </tr>\n",
              "  </thead>\n",
              "  <tbody>\n",
              "    <tr>\n",
              "      <th>0</th>\n",
              "      <td>5300000.0</td>\n",
              "      <td>85637</td>\n",
              "      <td>-110.378200</td>\n",
              "      <td>31.356362</td>\n",
              "      <td>2154.00</td>\n",
              "      <td>5272.00</td>\n",
              "      <td>1941</td>\n",
              "      <td>13</td>\n",
              "      <td>10.0</td>\n",
              "      <td>10500.0</td>\n",
              "      <td>0.0</td>\n",
              "      <td>Dishwasher, Freezer, Refrigerator, Oven</td>\n",
              "      <td>6</td>\n",
              "      <td>Mexican Tile, Wood</td>\n",
              "      <td>0.0</td>\n",
              "      <td>2.460539e+03</td>\n",
              "      <td>4.076923e+05</td>\n",
              "      <td>169024.710201</td>\n",
              "      <td>504.761905</td>\n",
              "    </tr>\n",
              "    <tr>\n",
              "      <th>1</th>\n",
              "      <td>4200000.0</td>\n",
              "      <td>85646</td>\n",
              "      <td>-111.045371</td>\n",
              "      <td>31.594213</td>\n",
              "      <td>1707.00</td>\n",
              "      <td>10422.36</td>\n",
              "      <td>1997</td>\n",
              "      <td>2</td>\n",
              "      <td>2.0</td>\n",
              "      <td>7300.0</td>\n",
              "      <td>0.0</td>\n",
              "      <td>Dishwasher, Garbage Disposal</td>\n",
              "      <td>5</td>\n",
              "      <td>Natural Stone, Other</td>\n",
              "      <td>0.0</td>\n",
              "      <td>2.460457e+03</td>\n",
              "      <td>2.100000e+06</td>\n",
              "      <td>132935.737314</td>\n",
              "      <td>575.342466</td>\n",
              "    </tr>\n",
              "    <tr>\n",
              "      <th>2</th>\n",
              "      <td>4500000.0</td>\n",
              "      <td>85646</td>\n",
              "      <td>-111.035925</td>\n",
              "      <td>31.645878</td>\n",
              "      <td>636.67</td>\n",
              "      <td>8418.58</td>\n",
              "      <td>1930</td>\n",
              "      <td>7</td>\n",
              "      <td>5.0</td>\n",
              "      <td>9019.0</td>\n",
              "      <td>4.0</td>\n",
              "      <td>Dishwasher, Double Sink, Pantry: Butler, Refri...</td>\n",
              "      <td>4</td>\n",
              "      <td>Ceramic Tile, Laminate, Wood</td>\n",
              "      <td>0.0</td>\n",
              "      <td>7.068026e+03</td>\n",
              "      <td>6.428571e+05</td>\n",
              "      <td>142198.614303</td>\n",
              "      <td>498.946668</td>\n",
              "    </tr>\n",
              "    <tr>\n",
              "      <th>3</th>\n",
              "      <td>3411450.0</td>\n",
              "      <td>85750</td>\n",
              "      <td>-110.813768</td>\n",
              "      <td>32.285162</td>\n",
              "      <td>3.21</td>\n",
              "      <td>15393.00</td>\n",
              "      <td>1995</td>\n",
              "      <td>4</td>\n",
              "      <td>6.0</td>\n",
              "      <td>6396.0</td>\n",
              "      <td>3.0</td>\n",
              "      <td>Dishwasher, Garbage Disposal, Refrigerator, Mi...</td>\n",
              "      <td>5</td>\n",
              "      <td>Carpet, Concrete</td>\n",
              "      <td>55.0</td>\n",
              "      <td>1.062757e+06</td>\n",
              "      <td>8.528625e+05</td>\n",
              "      <td>105666.188077</td>\n",
              "      <td>533.372420</td>\n",
              "    </tr>\n",
              "    <tr>\n",
              "      <th>4</th>\n",
              "      <td>3250000.0</td>\n",
              "      <td>85718</td>\n",
              "      <td>-110.910593</td>\n",
              "      <td>32.339090</td>\n",
              "      <td>1.67</td>\n",
              "      <td>27802.84</td>\n",
              "      <td>1999</td>\n",
              "      <td>3</td>\n",
              "      <td>4.0</td>\n",
              "      <td>6842.0</td>\n",
              "      <td>3.0</td>\n",
              "      <td>Dishwasher, Garbage Disposal, Refrigerator, Mi...</td>\n",
              "      <td>5</td>\n",
              "      <td>Natural Stone, Wood, Other</td>\n",
              "      <td>422.0</td>\n",
              "      <td>1.946108e+06</td>\n",
              "      <td>1.083333e+06</td>\n",
              "      <td>100497.571206</td>\n",
              "      <td>475.007308</td>\n",
              "    </tr>\n",
              "    <tr>\n",
              "      <th>...</th>\n",
              "      <td>...</td>\n",
              "      <td>...</td>\n",
              "      <td>...</td>\n",
              "      <td>...</td>\n",
              "      <td>...</td>\n",
              "      <td>...</td>\n",
              "      <td>...</td>\n",
              "      <td>...</td>\n",
              "      <td>...</td>\n",
              "      <td>...</td>\n",
              "      <td>...</td>\n",
              "      <td>...</td>\n",
              "      <td>...</td>\n",
              "      <td>...</td>\n",
              "      <td>...</td>\n",
              "      <td>...</td>\n",
              "      <td>...</td>\n",
              "      <td>...</td>\n",
              "      <td>...</td>\n",
              "    </tr>\n",
              "    <tr>\n",
              "      <th>4904</th>\n",
              "      <td>495000.0</td>\n",
              "      <td>85641</td>\n",
              "      <td>-110.661829</td>\n",
              "      <td>31.907917</td>\n",
              "      <td>4.98</td>\n",
              "      <td>2017.00</td>\n",
              "      <td>2005</td>\n",
              "      <td>5</td>\n",
              "      <td>3.0</td>\n",
              "      <td>3601.0</td>\n",
              "      <td>3.0</td>\n",
              "      <td>Dishwasher, Double Sink, Garbage Disposal, Gas...</td>\n",
              "      <td>1</td>\n",
              "      <td>Carpet, Ceramic Tile</td>\n",
              "      <td>0.0</td>\n",
              "      <td>9.939759e+04</td>\n",
              "      <td>9.900000e+04</td>\n",
              "      <td>15513.391238</td>\n",
              "      <td>137.461816</td>\n",
              "    </tr>\n",
              "    <tr>\n",
              "      <th>4905</th>\n",
              "      <td>550000.0</td>\n",
              "      <td>85750</td>\n",
              "      <td>-110.858556</td>\n",
              "      <td>32.316373</td>\n",
              "      <td>1.42</td>\n",
              "      <td>4822.01</td>\n",
              "      <td>1990</td>\n",
              "      <td>4</td>\n",
              "      <td>3.0</td>\n",
              "      <td>2318.0</td>\n",
              "      <td>3.0</td>\n",
              "      <td>Dishwasher, Double Sink, Electric Range, Garba...</td>\n",
              "      <td>1</td>\n",
              "      <td>Carpet, Ceramic Tile</td>\n",
              "      <td>43.0</td>\n",
              "      <td>3.873239e+05</td>\n",
              "      <td>1.375000e+05</td>\n",
              "      <td>17019.236658</td>\n",
              "      <td>237.273512</td>\n",
              "    </tr>\n",
              "    <tr>\n",
              "      <th>4906</th>\n",
              "      <td>475000.0</td>\n",
              "      <td>85192</td>\n",
              "      <td>-110.755428</td>\n",
              "      <td>32.964708</td>\n",
              "      <td>12.06</td>\n",
              "      <td>1000.00</td>\n",
              "      <td>1969</td>\n",
              "      <td>3</td>\n",
              "      <td>2.0</td>\n",
              "      <td>1772.0</td>\n",
              "      <td>0.0</td>\n",
              "      <td>Dishwasher, Electric Range, Island, Refrigerat...</td>\n",
              "      <td>0</td>\n",
              "      <td>Ceramic Tile</td>\n",
              "      <td>0.0</td>\n",
              "      <td>3.938640e+04</td>\n",
              "      <td>1.583333e+05</td>\n",
              "      <td>14409.349538</td>\n",
              "      <td>268.058691</td>\n",
              "    </tr>\n",
              "    <tr>\n",
              "      <th>4907</th>\n",
              "      <td>550000.0</td>\n",
              "      <td>85745</td>\n",
              "      <td>-111.055528</td>\n",
              "      <td>32.296871</td>\n",
              "      <td>1.01</td>\n",
              "      <td>5822.93</td>\n",
              "      <td>2009</td>\n",
              "      <td>4</td>\n",
              "      <td>4.0</td>\n",
              "      <td>3724.0</td>\n",
              "      <td>3.0</td>\n",
              "      <td>Dishwasher, Double Sink, Garbage Disposal, Gas...</td>\n",
              "      <td>1</td>\n",
              "      <td>Carpet, Ceramic Tile</td>\n",
              "      <td>0.0</td>\n",
              "      <td>5.445545e+05</td>\n",
              "      <td>1.375000e+05</td>\n",
              "      <td>17029.513478</td>\n",
              "      <td>147.690655</td>\n",
              "    </tr>\n",
              "    <tr>\n",
              "      <th>4908</th>\n",
              "      <td>450000.0</td>\n",
              "      <td>85621</td>\n",
              "      <td>-110.913054</td>\n",
              "      <td>31.385259</td>\n",
              "      <td>4.16</td>\n",
              "      <td>2814.48</td>\n",
              "      <td>1988</td>\n",
              "      <td>4</td>\n",
              "      <td>4.0</td>\n",
              "      <td>4317.0</td>\n",
              "      <td>0.0</td>\n",
              "      <td>Compactor, Dishwasher, Double Sink, Island, Ap...</td>\n",
              "      <td>3</td>\n",
              "      <td>Carpet, Mexican Tile</td>\n",
              "      <td>0.0</td>\n",
              "      <td>1.081731e+05</td>\n",
              "      <td>1.125000e+05</td>\n",
              "      <td>14337.941261</td>\n",
              "      <td>104.239055</td>\n",
              "    </tr>\n",
              "  </tbody>\n",
              "</table>\n",
              "<p>4909 rows × 19 columns</p>\n",
              "</div>\n",
              "      <button class=\"colab-df-convert\" onclick=\"convertToInteractive('df-df8e065f-f50d-4500-986a-88cb1841f24b')\"\n",
              "              title=\"Convert this dataframe to an interactive table.\"\n",
              "              style=\"display:none;\">\n",
              "        \n",
              "  <svg xmlns=\"http://www.w3.org/2000/svg\" height=\"24px\"viewBox=\"0 0 24 24\"\n",
              "       width=\"24px\">\n",
              "    <path d=\"M0 0h24v24H0V0z\" fill=\"none\"/>\n",
              "    <path d=\"M18.56 5.44l.94 2.06.94-2.06 2.06-.94-2.06-.94-.94-2.06-.94 2.06-2.06.94zm-11 1L8.5 8.5l.94-2.06 2.06-.94-2.06-.94L8.5 2.5l-.94 2.06-2.06.94zm10 10l.94 2.06.94-2.06 2.06-.94-2.06-.94-.94-2.06-.94 2.06-2.06.94z\"/><path d=\"M17.41 7.96l-1.37-1.37c-.4-.4-.92-.59-1.43-.59-.52 0-1.04.2-1.43.59L10.3 9.45l-7.72 7.72c-.78.78-.78 2.05 0 2.83L4 21.41c.39.39.9.59 1.41.59.51 0 1.02-.2 1.41-.59l7.78-7.78 2.81-2.81c.8-.78.8-2.07 0-2.86zM5.41 20L4 18.59l7.72-7.72 1.47 1.35L5.41 20z\"/>\n",
              "  </svg>\n",
              "      </button>\n",
              "      \n",
              "  <style>\n",
              "    .colab-df-container {\n",
              "      display:flex;\n",
              "      flex-wrap:wrap;\n",
              "      gap: 12px;\n",
              "    }\n",
              "\n",
              "    .colab-df-convert {\n",
              "      background-color: #E8F0FE;\n",
              "      border: none;\n",
              "      border-radius: 50%;\n",
              "      cursor: pointer;\n",
              "      display: none;\n",
              "      fill: #1967D2;\n",
              "      height: 32px;\n",
              "      padding: 0 0 0 0;\n",
              "      width: 32px;\n",
              "    }\n",
              "\n",
              "    .colab-df-convert:hover {\n",
              "      background-color: #E2EBFA;\n",
              "      box-shadow: 0px 1px 2px rgba(60, 64, 67, 0.3), 0px 1px 3px 1px rgba(60, 64, 67, 0.15);\n",
              "      fill: #174EA6;\n",
              "    }\n",
              "\n",
              "    [theme=dark] .colab-df-convert {\n",
              "      background-color: #3B4455;\n",
              "      fill: #D2E3FC;\n",
              "    }\n",
              "\n",
              "    [theme=dark] .colab-df-convert:hover {\n",
              "      background-color: #434B5C;\n",
              "      box-shadow: 0px 1px 3px 1px rgba(0, 0, 0, 0.15);\n",
              "      filter: drop-shadow(0px 1px 2px rgba(0, 0, 0, 0.3));\n",
              "      fill: #FFFFFF;\n",
              "    }\n",
              "  </style>\n",
              "\n",
              "      <script>\n",
              "        const buttonEl =\n",
              "          document.querySelector('#df-df8e065f-f50d-4500-986a-88cb1841f24b button.colab-df-convert');\n",
              "        buttonEl.style.display =\n",
              "          google.colab.kernel.accessAllowed ? 'block' : 'none';\n",
              "\n",
              "        async function convertToInteractive(key) {\n",
              "          const element = document.querySelector('#df-df8e065f-f50d-4500-986a-88cb1841f24b');\n",
              "          const dataTable =\n",
              "            await google.colab.kernel.invokeFunction('convertToInteractive',\n",
              "                                                     [key], {});\n",
              "          if (!dataTable) return;\n",
              "\n",
              "          const docLinkHtml = 'Like what you see? Visit the ' +\n",
              "            '<a target=\"_blank\" href=https://colab.research.google.com/notebooks/data_table.ipynb>data table notebook</a>'\n",
              "            + ' to learn more about interactive tables.';\n",
              "          element.innerHTML = '';\n",
              "          dataTable['output_type'] = 'display_data';\n",
              "          await google.colab.output.renderOutput(dataTable, element);\n",
              "          const docLink = document.createElement('div');\n",
              "          docLink.innerHTML = docLinkHtml;\n",
              "          element.appendChild(docLink);\n",
              "        }\n",
              "      </script>\n",
              "    </div>\n",
              "  </div>\n",
              "  "
            ]
          },
          "metadata": {},
          "execution_count": 608
        }
      ]
    },
    {
      "cell_type": "markdown",
      "source": [
        "only low latitudes have large houses, high altitudes only have small houses,30-32 is one set and 32-35 is another set, looks like size decreases as you go from center of set"
      ],
      "metadata": {
        "id": "Um2iJMgUq4yq"
      }
    },
    {
      "cell_type": "markdown",
      "source": [
        "Price per acre highest at 32-32.7"
      ],
      "metadata": {
        "id": "sUBDx-gZRNtY"
      }
    },
    {
      "cell_type": "markdown",
      "source": [
        "Newer houses more price per acre"
      ],
      "metadata": {
        "id": "2r3H5DQIPyuB"
      }
    },
    {
      "cell_type": "markdown",
      "source": [
        "Price per acre between -111.5 and -110.8 higher than rest, desirable area"
      ],
      "metadata": {
        "id": "AgQkuP9MQ2IZ"
      }
    },
    {
      "cell_type": "markdown",
      "source": [
        "CHECK ALL DATA TYPES, bathrooms is an object"
      ],
      "metadata": {
        "id": "BbDnko4mFP2c"
      }
    },
    {
      "cell_type": "markdown",
      "source": [
        "No way to use linear regression only to estimate price because of location, maybe use different locations as sets, have to use both classification and regression, no linear correlation between location and price, price per sqrt ft stays constant in particular neighbourhood so class them like that, we get text address which we get lat,long from, we decide input features, use case for finding price per sqr ft"
      ],
      "metadata": {
        "id": "Mq2r9mGpFDDL"
      }
    },
    {
      "cell_type": "markdown",
      "source": [
        "## Making classes based on ppsft"
      ],
      "metadata": {
        "id": "CEXnxR_kHNYL"
      }
    },
    {
      "cell_type": "code",
      "source": [
        "#data=data[(data[\"sqrt_ft\"]<6500) & (data[\"sqrt_ft\"]>6000)]"
      ],
      "metadata": {
        "id": "D5XtUqrqwFWn"
      },
      "execution_count": 609,
      "outputs": []
    },
    {
      "cell_type": "code",
      "source": [
        "data[(data[\"price per ft\"]<400) & (data[\"price per ft\"]>100)].shape"
      ],
      "metadata": {
        "colab": {
          "base_uri": "https://localhost:8080/"
        },
        "id": "N2sxtvUj16xd",
        "outputId": "f5ed543d-25d7-4523-e09f-cdd646efdfd8"
      },
      "execution_count": 610,
      "outputs": [
        {
          "output_type": "execute_result",
          "data": {
            "text/plain": [
              "(4800, 19)"
            ]
          },
          "metadata": {},
          "execution_count": 610
        }
      ]
    },
    {
      "cell_type": "code",
      "source": [
        "data[\"class\"]=data[\"zipcode\"]\n",
        "for i in range(0,len(data)):\n",
        "  if data[\"price per ft\"][i]<150:\n",
        "    data.loc[i,'class']=0\n",
        "  elif 150<=data[\"price per ft\"][i]<300:\n",
        "    data.loc[i,'class']=1  \n",
        "  elif 300<=data[\"price per ft\"][i]<450:\n",
        "    data.loc[i,'class']=2\n",
        "  else:\n",
        "    data.loc[i,'class']=3\n",
        "  '''\n",
        "  elif 150<=data[\"price per ft\"][i]<200:\n",
        "    data.loc[i,'class']=3\n",
        "  elif 200<=data[\"price per ft\"][i]<250:\n",
        "    data.loc[i,'class']=4\n",
        "  elif 250<=data[\"price per ft\"][i]<300:\n",
        "    data.loc[i,'class']=5\n",
        "  '''\n",
        "  \n",
        "  \n",
        "\n",
        "  '''\n",
        "  elif 150<=data[\"price per ft\"][i]<200:\n",
        "    data.loc[i,'class']=3 \n",
        "  elif 200<=data[\"price per ft\"][i]<250:\n",
        "    data.loc[i,'class']=4\n",
        "  elif 250<=data[\"price per ft\"][i]<300:\n",
        "    data.loc[i,'class']=5\n",
        "  '''\n",
        "  "
      ],
      "metadata": {
        "id": "_9V2R8NrHVbT"
      },
      "execution_count": 611,
      "outputs": []
    },
    {
      "cell_type": "markdown",
      "source": [
        "normalise your data"
      ],
      "metadata": {
        "id": "8edxg21_WSlO"
      }
    },
    {
      "cell_type": "markdown",
      "source": [
        "Plan:Assign class to each value using GB Classifier\n",
        "      Predict a value using the regressor"
      ],
      "metadata": {
        "id": "PlN2K_3W5DZ1"
      }
    },
    {
      "cell_type": "code",
      "source": [
        "#data[(data[\"price per ft\"]<100) & (data[\"price per ft\"]>10)]"
      ],
      "metadata": {
        "id": "FEazfF5lNmV_"
      },
      "execution_count": 612,
      "outputs": []
    },
    {
      "cell_type": "code",
      "source": [
        "#data.iloc[:6,:]"
      ],
      "metadata": {
        "id": "Hz0CKcHk2URa"
      },
      "execution_count": 613,
      "outputs": []
    },
    {
      "cell_type": "code",
      "source": [
        "sn.relplot(data=data[(data[\"price per ft\"]<1000) & (data[\"price per ft\"]>0)],x=\"latitude\",y=\"longitude\",hue=\"class\",palette=\"bright\")\n",
        "plt.xlim(32.28, 32.35)\n",
        "plt.ylim(-111,-110.8)"
      ],
      "metadata": {
        "colab": {
          "base_uri": "https://localhost:8080/",
          "height": 391
        },
        "id": "jvlQACtsVkH6",
        "outputId": "2344aaaf-2758-4d2b-ea82-8577a2045f13"
      },
      "execution_count": 614,
      "outputs": [
        {
          "output_type": "execute_result",
          "data": {
            "text/plain": [
              "(-111.0, -110.8)"
            ]
          },
          "metadata": {},
          "execution_count": 614
        },
        {
          "output_type": "display_data",
          "data": {
            "text/plain": [
              "<Figure size 402.375x360 with 1 Axes>"
            ],
            "image/png": "[encoded data removed]"
          },
          "metadata": {
            "needs_background": "light"
          }
        }
      ]
    },
    {
      "cell_type": "markdown",
      "source": [
        "Interesting groups, 150-160, 240-250"
      ],
      "metadata": {
        "id": "qOoGUcPK50zQ"
      }
    },
    {
      "cell_type": "markdown",
      "source": [
        "##Gauss Bayes"
      ],
      "metadata": {
        "id": "cjaZBjhP2K9e"
      }
    },
    {
      "cell_type": "code",
      "source": [
        "eps=4e-2"
      ],
      "metadata": {
        "id": "eqpkTP3D55lO"
      },
      "execution_count": 615,
      "outputs": []
    },
    {
      "cell_type": "code",
      "source": [
        "class GaussBayes():\n",
        "  \n",
        "    likelihoods = dict()   # \n",
        "    priors = dict()        # \n",
        "    K = int()              # K stands for the number of classes\n",
        "  \n",
        "    def fit(self, X, y, epsilon=eps):\n",
        "        \"\"\" \n",
        "        Method for training the model\n",
        "        Creates likelihoods and priors (AKA weights & Biases) the represent\n",
        "        the trained value. \n",
        "        \"\"\"\n",
        "        self.K = set(y.astype(int)) \n",
        "        for k in self.K: \n",
        "            X_k = X[y==k, :]\n",
        "            N_k, D = X_k.shape\n",
        "            mu_k = X_k.mean(axis=0)\n",
        "            self.likelihoods[k] = {\n",
        "                \"Mean\": mu_k, # X_k.mean(axis=0), # Where the data is situated\n",
        "                \"CoVariance\": \n",
        "                    (1/(N_k-1))\n",
        "                    *np.matmul((X_k-mu_k).T, (X_k-mu_k))\n",
        "                    +epsilon*np.identity(D)\n",
        "            }\n",
        "            self.priors[k] = len(X_k)/len(X)\n",
        "\n",
        "\n",
        "    def predict(self, X):\n",
        "        \"\"\"\n",
        "        Where inference happens. \n",
        "        Predicts the class for each instance of X with Bayes theorem using the \n",
        "        likelihoods and priors (weights & biases) calculated during training. \n",
        "        \"\"\"\n",
        "        N, D = X.shape  # numRows, numFeatures\n",
        "        P_hat = np.zeros((N, len(self.K))) # Predictive Probability\n",
        "        for k, l in self.likelihoods.items():\n",
        "            P_hat[:,k] = mvn.logpdf(\n",
        "                X, \n",
        "                l[\"Mean\"], \n",
        "                l[\"CoVariance\"]) + np.log(self.priors[k])\n",
        "        return P_hat.argmax(axis=1)\n",
        "\n",
        "def acc(y, y_hat):\n",
        "  return np.mean(y==y_hat)"
      ],
      "metadata": {
        "id": "8biAjew-mqOc"
      },
      "execution_count": 616,
      "outputs": []
    },
    {
      "cell_type": "code",
      "source": [
        "gaussbayes = GaussBayes()"
      ],
      "metadata": {
        "id": "CjOro2CWmwU_"
      },
      "execution_count": 617,
      "outputs": []
    },
    {
      "cell_type": "code",
      "source": [
        "normX=data.iloc[:,2:4]"
      ],
      "metadata": {
        "id": "zBPJzseTF9mx"
      },
      "execution_count": 618,
      "outputs": []
    },
    {
      "cell_type": "code",
      "source": [
        "normy=data[\"price per ft\"]"
      ],
      "metadata": {
        "id": "pdxdJFUnKnZj"
      },
      "execution_count": 619,
      "outputs": []
    },
    {
      "cell_type": "code",
      "source": [
        "ymin=normy.min()"
      ],
      "metadata": {
        "id": "QCLQb2ZnKzdZ"
      },
      "execution_count": 620,
      "outputs": []
    },
    {
      "cell_type": "code",
      "source": [
        "ymax=normy.max()"
      ],
      "metadata": {
        "id": "rlAoy27gLruM"
      },
      "execution_count": 621,
      "outputs": []
    },
    {
      "cell_type": "code",
      "source": [
        "y=(normy-ymin)/(ymax-ymin)"
      ],
      "metadata": {
        "id": "_iH1VHrmMFRm"
      },
      "execution_count": 622,
      "outputs": []
    },
    {
      "cell_type": "code",
      "source": [
        "longmin=normX[\"longitude\"].min()"
      ],
      "metadata": {
        "id": "wL0gPwWtGKTs"
      },
      "execution_count": 623,
      "outputs": []
    },
    {
      "cell_type": "code",
      "source": [
        "longmax=normX[\"longitude\"].max()"
      ],
      "metadata": {
        "id": "hq-TC_8MHFSb"
      },
      "execution_count": 624,
      "outputs": []
    },
    {
      "cell_type": "code",
      "source": [
        "latmin=normX[\"latitude\"].min()"
      ],
      "metadata": {
        "id": "VqEcMBsCHFVb"
      },
      "execution_count": 625,
      "outputs": []
    },
    {
      "cell_type": "code",
      "source": [
        "latmax=normX[\"latitude\"].max()"
      ],
      "metadata": {
        "id": "BMIQg3OxHMVN"
      },
      "execution_count": 626,
      "outputs": []
    },
    {
      "cell_type": "code",
      "source": [
        "normX[\"longitude\"] = (data[\"longitude\"]-longmax)/(longmax-longmin)"
      ],
      "metadata": {
        "id": "3Ergd2hhGKRq"
      },
      "execution_count": 627,
      "outputs": []
    },
    {
      "cell_type": "code",
      "source": [
        "normX[\"latitude\"] = (data[\"latitude\"]-latmax)/(latmax-latmin)"
      ],
      "metadata": {
        "id": "6o8BCNtQGKXZ"
      },
      "execution_count": 628,
      "outputs": []
    },
    {
      "cell_type": "code",
      "source": [
        "normX"
      ],
      "metadata": {
        "colab": {
          "base_uri": "https://localhost:8080/",
          "height": 423
        },
        "id": "dOpzL0uCH64J",
        "outputId": "6a8d9847-814a-4131-cfbc-e1466b208e2c"
      },
      "execution_count": 629,
      "outputs": [
        {
          "output_type": "execute_result",
          "data": {
            "text/plain": [
              "      longitude  latitude\n",
              "0     -0.301273 -1.000000\n",
              "1     -0.518910 -0.933403\n",
              "2     -0.515828 -0.918938\n",
              "3     -0.443359 -0.739943\n",
              "4     -0.474944 -0.724843\n",
              "...         ...       ...\n",
              "4904  -0.393795 -0.845569\n",
              "4905  -0.457969 -0.731204\n",
              "4906  -0.424328 -0.549675\n",
              "4907  -0.522223 -0.736664\n",
              "4908  -0.475747 -0.991909\n",
              "\n",
              "[4909 rows x 2 columns]"
            ],
            "text/html": [
              "\n",
              "  <div id=\"df-c5894ab5-b1ac-437d-8201-164de696226c\">\n",
              "    <div class=\"colab-df-container\">\n",
              "      <div>\n",
              "<style scoped>\n",
              "    .dataframe tbody tr th:only-of-type {\n",
              "        vertical-align: middle;\n",
              "    }\n",
              "\n",
              "    .dataframe tbody tr th {\n",
              "        vertical-align: top;\n",
              "    }\n",
              "\n",
              "    .dataframe thead th {\n",
              "        text-align: right;\n",
              "    }\n",
              "</style>\n",
              "<table border=\"1\" class=\"dataframe\">\n",
              "  <thead>\n",
              "    <tr style=\"text-align: right;\">\n",
              "      <th></th>\n",
              "      <th>longitude</th>\n",
              "      <th>latitude</th>\n",
              "    </tr>\n",
              "  </thead>\n",
              "  <tbody>\n",
              "    <tr>\n",
              "      <th>0</th>\n",
              "      <td>-0.301273</td>\n",
              "      <td>-1.000000</td>\n",
              "    </tr>\n",
              "    <tr>\n",
              "      <th>1</th>\n",
              "      <td>-0.518910</td>\n",
              "      <td>-0.933403</td>\n",
              "    </tr>\n",
              "    <tr>\n",
              "      <th>2</th>\n",
              "      <td>-0.515828</td>\n",
              "      <td>-0.918938</td>\n",
              "    </tr>\n",
              "    <tr>\n",
              "      <th>3</th>\n",
              "      <td>-0.443359</td>\n",
              "      <td>-0.739943</td>\n",
              "    </tr>\n",
              "    <tr>\n",
              "      <th>4</th>\n",
              "      <td>-0.474944</td>\n",
              "      <td>-0.724843</td>\n",
              "    </tr>\n",
              "    <tr>\n",
              "      <th>...</th>\n",
              "      <td>...</td>\n",
              "      <td>...</td>\n",
              "    </tr>\n",
              "    <tr>\n",
              "      <th>4904</th>\n",
              "      <td>-0.393795</td>\n",
              "      <td>-0.845569</td>\n",
              "    </tr>\n",
              "    <tr>\n",
              "      <th>4905</th>\n",
              "      <td>-0.457969</td>\n",
              "      <td>-0.731204</td>\n",
              "    </tr>\n",
              "    <tr>\n",
              "      <th>4906</th>\n",
              "      <td>-0.424328</td>\n",
              "      <td>-0.549675</td>\n",
              "    </tr>\n",
              "    <tr>\n",
              "      <th>4907</th>\n",
              "      <td>-0.522223</td>\n",
              "      <td>-0.736664</td>\n",
              "    </tr>\n",
              "    <tr>\n",
              "      <th>4908</th>\n",
              "      <td>-0.475747</td>\n",
              "      <td>-0.991909</td>\n",
              "    </tr>\n",
              "  </tbody>\n",
              "</table>\n",
              "<p>4909 rows × 2 columns</p>\n",
              "</div>\n",
              "      <button class=\"colab-df-convert\" onclick=\"convertToInteractive('df-c5894ab5-b1ac-437d-8201-164de696226c')\"\n",
              "              title=\"Convert this dataframe to an interactive table.\"\n",
              "              style=\"display:none;\">\n",
              "        \n",
              "  <svg xmlns=\"http://www.w3.org/2000/svg\" height=\"24px\"viewBox=\"0 0 24 24\"\n",
              "       width=\"24px\">\n",
              "    <path d=\"M0 0h24v24H0V0z\" fill=\"none\"/>\n",
              "    <path d=\"M18.56 5.44l.94 2.06.94-2.06 2.06-.94-2.06-.94-.94-2.06-.94 2.06-2.06.94zm-11 1L8.5 8.5l.94-2.06 2.06-.94-2.06-.94L8.5 2.5l-.94 2.06-2.06.94zm10 10l.94 2.06.94-2.06 2.06-.94-2.06-.94-.94-2.06-.94 2.06-2.06.94z\"/><path d=\"M17.41 7.96l-1.37-1.37c-.4-.4-.92-.59-1.43-.59-.52 0-1.04.2-1.43.59L10.3 9.45l-7.72 7.72c-.78.78-.78 2.05 0 2.83L4 21.41c.39.39.9.59 1.41.59.51 0 1.02-.2 1.41-.59l7.78-7.78 2.81-2.81c.8-.78.8-2.07 0-2.86zM5.41 20L4 18.59l7.72-7.72 1.47 1.35L5.41 20z\"/>\n",
              "  </svg>\n",
              "      </button>\n",
              "      \n",
              "  <style>\n",
              "    .colab-df-container {\n",
              "      display:flex;\n",
              "      flex-wrap:wrap;\n",
              "      gap: 12px;\n",
              "    }\n",
              "\n",
              "    .colab-df-convert {\n",
              "      background-color: #E8F0FE;\n",
              "      border: none;\n",
              "      border-radius: 50%;\n",
              "      cursor: pointer;\n",
              "      display: none;\n",
              "      fill: #1967D2;\n",
              "      height: 32px;\n",
              "      padding: 0 0 0 0;\n",
              "      width: 32px;\n",
              "    }\n",
              "\n",
              "    .colab-df-convert:hover {\n",
              "      background-color: #E2EBFA;\n",
              "      box-shadow: 0px 1px 2px rgba(60, 64, 67, 0.3), 0px 1px 3px 1px rgba(60, 64, 67, 0.15);\n",
              "      fill: #174EA6;\n",
              "    }\n",
              "\n",
              "    [theme=dark] .colab-df-convert {\n",
              "      background-color: #3B4455;\n",
              "      fill: #D2E3FC;\n",
              "    }\n",
              "\n",
              "    [theme=dark] .colab-df-convert:hover {\n",
              "      background-color: #434B5C;\n",
              "      box-shadow: 0px 1px 3px 1px rgba(0, 0, 0, 0.15);\n",
              "      filter: drop-shadow(0px 1px 2px rgba(0, 0, 0, 0.3));\n",
              "      fill: #FFFFFF;\n",
              "    }\n",
              "  </style>\n",
              "\n",
              "      <script>\n",
              "        const buttonEl =\n",
              "          document.querySelector('#df-c5894ab5-b1ac-437d-8201-164de696226c button.colab-df-convert');\n",
              "        buttonEl.style.display =\n",
              "          google.colab.kernel.accessAllowed ? 'block' : 'none';\n",
              "\n",
              "        async function convertToInteractive(key) {\n",
              "          const element = document.querySelector('#df-c5894ab5-b1ac-437d-8201-164de696226c');\n",
              "          const dataTable =\n",
              "            await google.colab.kernel.invokeFunction('convertToInteractive',\n",
              "                                                     [key], {});\n",
              "          if (!dataTable) return;\n",
              "\n",
              "          const docLinkHtml = 'Like what you see? Visit the ' +\n",
              "            '<a target=\"_blank\" href=https://colab.research.google.com/notebooks/data_table.ipynb>data table notebook</a>'\n",
              "            + ' to learn more about interactive tables.';\n",
              "          element.innerHTML = '';\n",
              "          dataTable['output_type'] = 'display_data';\n",
              "          await google.colab.output.renderOutput(dataTable, element);\n",
              "          const docLink = document.createElement('div');\n",
              "          docLink.innerHTML = docLinkHtml;\n",
              "          element.appendChild(docLink);\n",
              "        }\n",
              "      </script>\n",
              "    </div>\n",
              "  </div>\n",
              "  "
            ]
          },
          "metadata": {},
          "execution_count": 629
        }
      ]
    },
    {
      "cell_type": "code",
      "source": [
        "X=normX"
      ],
      "metadata": {
        "id": "6zGogzZ4H66c"
      },
      "execution_count": 630,
      "outputs": []
    },
    {
      "cell_type": "code",
      "source": [
        "#X=data.iloc[:,2:4]"
      ],
      "metadata": {
        "id": "tcOE7fk-nHdN"
      },
      "execution_count": 631,
      "outputs": []
    },
    {
      "cell_type": "code",
      "source": [
        "X=X.to_numpy()"
      ],
      "metadata": {
        "id": "i23hCCsgnjB-"
      },
      "execution_count": 632,
      "outputs": []
    },
    {
      "cell_type": "code",
      "source": [
        "X"
      ],
      "metadata": {
        "colab": {
          "base_uri": "https://localhost:8080/"
        },
        "id": "EAJvbGoYd9kd",
        "outputId": "cf4f0a1c-6bae-4c83-e7bb-06d1773fe0d7"
      },
      "execution_count": 633,
      "outputs": [
        {
          "output_type": "execute_result",
          "data": {
            "text/plain": [
              "array([[-0.30127342, -1.        ],\n",
              "       [-0.51890977, -0.93340346],\n",
              "       [-0.51582842, -0.91893764],\n",
              "       ...,\n",
              "       [-0.42432812, -0.5496749 ],\n",
              "       [-0.52222307, -0.73666437],\n",
              "       [-0.47574694, -0.99190905]])"
            ]
          },
          "metadata": {},
          "execution_count": 633
        }
      ]
    },
    {
      "cell_type": "code",
      "source": [
        "y=data[\"class\"]"
      ],
      "metadata": {
        "id": "faqHtoRvo0eU"
      },
      "execution_count": 634,
      "outputs": []
    },
    {
      "cell_type": "code",
      "source": [
        "y=y.to_numpy()"
      ],
      "metadata": {
        "id": "wqLxlLdnpdle"
      },
      "execution_count": 635,
      "outputs": []
    },
    {
      "cell_type": "code",
      "source": [
        "gaussbayes.fit(X, y, epsilon=eps)"
      ],
      "metadata": {
        "id": "RhxGD6ltmzbx"
      },
      "execution_count": 636,
      "outputs": []
    },
    {
      "cell_type": "code",
      "source": [
        "GB_Yhat = gaussbayes.predict(X)"
      ],
      "metadata": {
        "id": "9GKeBMcfm0Bo"
      },
      "execution_count": 637,
      "outputs": []
    },
    {
      "cell_type": "code",
      "source": [
        "GB_Yhat"
      ],
      "metadata": {
        "colab": {
          "base_uri": "https://localhost:8080/"
        },
        "id": "J_k5OFpHm31M",
        "outputId": "7c89532c-6163-4199-dd1b-67ab88b7d35d"
      },
      "execution_count": 638,
      "outputs": [
        {
          "output_type": "execute_result",
          "data": {
            "text/plain": [
              "array([1, 1, 1, ..., 1, 1, 1])"
            ]
          },
          "metadata": {},
          "execution_count": 638
        }
      ]
    },
    {
      "cell_type": "code",
      "source": [
        "acc(y, GB_Yhat)"
      ],
      "metadata": {
        "colab": {
          "base_uri": "https://localhost:8080/"
        },
        "id": "yBvCw3QUkVFI",
        "outputId": "ea931f85-134c-4fe7-c457-890e3dccac45"
      },
      "execution_count": 639,
      "outputs": [
        {
          "output_type": "execute_result",
          "data": {
            "text/plain": [
              "0.8576084742310043"
            ]
          },
          "metadata": {},
          "execution_count": 639
        }
      ]
    },
    {
      "cell_type": "code",
      "source": [
        "test=X[0:1,:]\n",
        "test"
      ],
      "metadata": {
        "colab": {
          "base_uri": "https://localhost:8080/"
        },
        "id": "phWaSLzvbQdF",
        "outputId": "b33a7b52-83f2-430e-a013-cf67c1354366"
      },
      "execution_count": 640,
      "outputs": [
        {
          "output_type": "execute_result",
          "data": {
            "text/plain": [
              "array([[-0.30127342, -1.        ]])"
            ]
          },
          "metadata": {},
          "execution_count": 640
        }
      ]
    },
    {
      "cell_type": "code",
      "source": [
        "test.shape"
      ],
      "metadata": {
        "colab": {
          "base_uri": "https://localhost:8080/"
        },
        "id": "d4FQXqpQhNJ_",
        "outputId": "443e91e5-5ae9-4be5-804a-4c4cc8e51c5d"
      },
      "execution_count": 641,
      "outputs": [
        {
          "output_type": "execute_result",
          "data": {
            "text/plain": [
              "(1, 2)"
            ]
          },
          "metadata": {},
          "execution_count": 641
        }
      ]
    },
    {
      "cell_type": "code",
      "source": [
        "classpredict=gaussbayes.predict(test)"
      ],
      "metadata": {
        "id": "D1hZxfgTa1P0"
      },
      "execution_count": 642,
      "outputs": []
    },
    {
      "cell_type": "code",
      "source": [
        "classpredict"
      ],
      "metadata": {
        "colab": {
          "base_uri": "https://localhost:8080/"
        },
        "id": "DulveGGzierw",
        "outputId": "68aae29b-2d8b-4ebb-83af-87cca31ad95d"
      },
      "execution_count": 643,
      "outputs": [
        {
          "output_type": "execute_result",
          "data": {
            "text/plain": [
              "array([1])"
            ]
          },
          "metadata": {},
          "execution_count": 643
        }
      ]
    },
    {
      "cell_type": "code",
      "source": [
        "classpredict[0]=classpredict"
      ],
      "metadata": {
        "id": "2J7oLecYudSC"
      },
      "execution_count": 644,
      "outputs": []
    },
    {
      "cell_type": "code",
      "source": [
        "sn.relplot(data=data[\"price per ft\"],x=normX[\"latitude\"],y=normX[\"longitude\"],hue=data[\"class\"],palette=\"bright\")\n",
        "#plt.ylim(-0.55, -0.45)\n",
        "#plt.xlim(-0.8,-0.65)"
      ],
      "metadata": {
        "colab": {
          "base_uri": "https://localhost:8080/",
          "height": 387
        },
        "id": "2iUr4kqlInpC",
        "outputId": "d44ec4cb-1cdb-4a46-e9ea-10ef7cc8de38"
      },
      "execution_count": 645,
      "outputs": [
        {
          "output_type": "execute_result",
          "data": {
            "text/plain": [
              "<seaborn.axisgrid.FacetGrid at 0x7f90738ec190>"
            ]
          },
          "metadata": {},
          "execution_count": 645
        },
        {
          "output_type": "display_data",
          "data": {
            "text/plain": [
              "<Figure size 402.375x360 with 1 Axes>"
            ],
            "image/png": "[encoded data removed]"
          },
          "metadata": {
            "needs_background": "light"
          }
        }
      ]
    },
    {
      "cell_type": "markdown",
      "source": [
        "##Linear Regression"
      ],
      "metadata": {
        "id": "uw2g1C-_2S4J"
      }
    },
    {
      "cell_type": "code",
      "source": [
        "def OLS(Y,Y_hat,N):\n",
        "  return (1/(2*N)*np.sum((Y-Y_hat)**2))\n",
        "\n",
        "def R2(Y,Y_hat):\n",
        "  return (1-(np.sum((Y-Y_hat)**2)/np.sum((Y-np.mean(Y))**2)))"
      ],
      "metadata": {
        "id": "Aw_qONNNsAeF"
      },
      "execution_count": 646,
      "outputs": []
    },
    {
      "cell_type": "code",
      "source": [
        "class OurLinearRegression():\n",
        "\n",
        "  def fit(self,X,y,eta=1e-9,epochs=3e2,show_curve=False):\n",
        "\n",
        "    epochs=int(epochs)\n",
        "    N,D=X.shape\n",
        "    Y=y\n",
        "\n",
        "    #Stochastic Gradient Descent:\n",
        "    \n",
        "    #Initialise the weights\n",
        "    self.W=np.random.randn(D)\n",
        "\n",
        "    J=np.zeros(epochs)\n",
        "\n",
        "    #Gradient Descent Step\n",
        "\n",
        "    for epoch in range(epochs):\n",
        "      Y_hat=self.predict(X)\n",
        "      J[epoch]=OLS(Y,Y_hat,N) #calculate error/loss\n",
        "      #weight uptake rule\n",
        "      self.W-=eta*(1/N)*(X.T@(Y_hat-Y))\n",
        "\n",
        "    if show_curve:\n",
        "      plt.figure()\n",
        "      plt.plot(J)\n",
        "      plt.xlabel(\"epochs\")\n",
        "      plt.ylabel(\"$\\mathcal{J}$\")\n",
        "      plt.title(\"Training Curve\")\n",
        "      plt.show()\n",
        "\n",
        "  def predict(self,X):\n",
        "    return X@self.W"
      ],
      "metadata": {
        "id": "ZHVZhUl1r1XQ"
      },
      "execution_count": 647,
      "outputs": []
    },
    {
      "cell_type": "code",
      "source": [
        "X=data[['taxes','class','bedrooms','garage','sqrt_ft']].copy() #want to predict taxes using predicted class, add in sqrt ft"
      ],
      "metadata": {
        "id": "SK7V36zqsIvj"
      },
      "execution_count": 648,
      "outputs": []
    },
    {
      "cell_type": "code",
      "source": [
        "X=X.to_numpy()"
      ],
      "metadata": {
        "id": "et64AtNtsJaY"
      },
      "execution_count": 649,
      "outputs": []
    },
    {
      "cell_type": "code",
      "source": [
        "y=X[:,0]"
      ],
      "metadata": {
        "id": "d4E_DqKasNS9"
      },
      "execution_count": 650,
      "outputs": []
    },
    {
      "cell_type": "code",
      "source": [
        "X=X[:,1:]"
      ],
      "metadata": {
        "id": "TSFISY_Rsc-b"
      },
      "execution_count": 651,
      "outputs": []
    },
    {
      "cell_type": "code",
      "source": [
        "myreg=OurLinearRegression()"
      ],
      "metadata": {
        "id": "DM7WCDHPseF1"
      },
      "execution_count": 652,
      "outputs": []
    },
    {
      "cell_type": "code",
      "source": [
        "myreg.fit(X,y,epochs=3e2,eta=1e-9,show_curve=True)"
      ],
      "metadata": {
        "colab": {
          "base_uri": "https://localhost:8080/",
          "height": 295
        },
        "id": "T_0GnMVEsjoG",
        "outputId": "91d49557-e411-4f98-e483-2a6413b4e8b1"
      },
      "execution_count": 653,
      "outputs": [
        {
          "output_type": "display_data",
          "data": {
            "text/plain": [
              "<Figure size 432x288 with 1 Axes>"
            ],
            "image/png": "[encoded data removed]"
          },
          "metadata": {
            "needs_background": "light"
          }
        }
      ]
    },
    {
      "cell_type": "code",
      "source": [
        "bedpredict=3\n",
        "garpredict=2\n",
        "ftpredict=1200\n",
        "Xtest=np.array([[classpredict,bedpredict,garpredict,ftpredict]]) #Values of each input we want to test"
      ],
      "metadata": {
        "id": "JY986sxjskV7",
        "colab": {
          "base_uri": "https://localhost:8080/"
        },
        "outputId": "a0381c75-81e7-43b3-aa33-80a7b1227efd"
      },
      "execution_count": 654,
      "outputs": [
        {
          "output_type": "stream",
          "name": "stderr",
          "text": [
            "/usr/local/lib/python3.7/dist-packages/ipykernel_launcher.py:4: VisibleDeprecationWarning: Creating an ndarray from ragged nested sequences (which is a list-or-tuple of lists-or-tuples-or ndarrays with different lengths or shapes) is deprecated. If you meant to do this, you must specify 'dtype=object' when creating the ndarray.\n",
            "  after removing the cwd from sys.path.\n"
          ]
        }
      ]
    },
    {
      "cell_type": "code",
      "source": [
        "myreg.predict(Xtest) #this gives prediction"
      ],
      "metadata": {
        "colab": {
          "base_uri": "https://localhost:8080/"
        },
        "id": "34uoExhDspE7",
        "outputId": "faeaec51-a723-4893-fbce-2dd4f59e72e3"
      },
      "execution_count": 655,
      "outputs": [
        {
          "output_type": "execute_result",
          "data": {
            "text/plain": [
              "array([array([3364.18699704])], dtype=object)"
            ]
          },
          "metadata": {},
          "execution_count": 655
        }
      ]
    },
    {
      "cell_type": "code",
      "source": [
        "result=myreg.predict(Xtest)[0][0]"
      ],
      "metadata": {
        "id": "PhC9B2OZvNVi"
      },
      "execution_count": 656,
      "outputs": []
    },
    {
      "cell_type": "code",
      "source": [
        "y_hat=myreg.predict(X)"
      ],
      "metadata": {
        "id": "Ei1_0dKRsshT"
      },
      "execution_count": 657,
      "outputs": []
    },
    {
      "cell_type": "code",
      "source": [
        "R2(y,y_hat)"
      ],
      "metadata": {
        "colab": {
          "base_uri": "https://localhost:8080/"
        },
        "id": "86nDyKrnswMY",
        "outputId": "1e6bbe5d-1629-45cc-ccc3-1ac9e4eb81dd"
      },
      "execution_count": 658,
      "outputs": [
        {
          "output_type": "execute_result",
          "data": {
            "text/plain": [
              "0.000999772576446456"
            ]
          },
          "metadata": {},
          "execution_count": 658
        }
      ]
    },
    {
      "cell_type": "markdown",
      "source": [
        "use same types of house to plot and find areas"
      ],
      "metadata": {
        "id": "763DQuyywUz3"
      }
    },
    {
      "cell_type": "markdown",
      "source": [
        "##Result"
      ],
      "metadata": {
        "id": "wvQYjC0R87OK"
      }
    },
    {
      "cell_type": "code",
      "source": [
        "result"
      ],
      "metadata": {
        "colab": {
          "base_uri": "https://localhost:8080/"
        },
        "id": "VDllqZ3j83-N",
        "outputId": "17530013-54fc-479e-8346-bfa451ba0590"
      },
      "execution_count": 659,
      "outputs": [
        {
          "output_type": "execute_result",
          "data": {
            "text/plain": [
              "3364.186997038934"
            ]
          },
          "metadata": {},
          "execution_count": 659
        }
      ]
    }
  ]
}